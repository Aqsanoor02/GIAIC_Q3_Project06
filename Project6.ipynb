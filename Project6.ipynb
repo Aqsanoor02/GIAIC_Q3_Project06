{
  "nbformat": 4,
  "nbformat_minor": 0,
  "metadata": {
    "colab": {
      "provenance": [],
      "authorship_tag": "ABX9TyPAm8RLEUSHj4xpu4lIouuB",
      "include_colab_link": true
    },
    "kernelspec": {
      "name": "python3",
      "display_name": "Python 3"
    },
    "language_info": {
      "name": "python"
    }
  },
  "cells": [
    {
      "cell_type": "markdown",
      "metadata": {
        "id": "view-in-github",
        "colab_type": "text"
      },
      "source": [
        "<a href=\"https://colab.research.google.com/github/Aqsanoor02/GIAIC_Q3_Project06/blob/main/Project6.ipynb\" target=\"_parent\"><img src=\"https://colab.research.google.com/assets/colab-badge.svg\" alt=\"Open In Colab\"/></a>"
      ]
    },
    {
      "cell_type": "markdown",
      "source": [
        "# Using self\n",
        "Assignment:\n",
        "Create a class Student with attributes name and marks. Use the self keyword to initialize these values via a constructor. Add a method display() that prints student details."
      ],
      "metadata": {
        "id": "hd79hIzdpf30"
      }
    },
    {
      "cell_type": "code",
      "execution_count": null,
      "metadata": {
        "colab": {
          "base_uri": "https://localhost:8080/"
        },
        "id": "uk4UBsZwpdQm",
        "outputId": "45ec507b-7c72-4df5-caf7-ab835cbee0e2"
      },
      "outputs": [
        {
          "output_type": "stream",
          "name": "stdout",
          "text": [
            "Student name is Noor and marks are 86/100\n"
          ]
        }
      ],
      "source": [
        "class Student:\n",
        "  def __init__(self, name, marks):\n",
        "     self.name = name\n",
        "     self.marks = marks\n",
        "  def display(self):\n",
        "    print(f\"Student name is {self.name} and marks are {self.marks}/100\")\n",
        "\n",
        "s1= Student(\"Noor\",86)\n",
        "s1.display()\n",
        "\n"
      ]
    },
    {
      "cell_type": "markdown",
      "source": [
        "#Using cls\n",
        "Assignment:\n",
        "Create a class Counter that keeps track of how many objects have been created. Use a class variable and a class method with cls to manage and display the count."
      ],
      "metadata": {
        "id": "4u4QhSRjroU7"
      }
    },
    {
      "cell_type": "code",
      "source": [
        "class Counter:\n",
        "  objCreated=0\n",
        "  def __init__(self):\n",
        "    Counter.objCreated+=1\n",
        "  @classmethod\n",
        "  def Count(cls):\n",
        "    print(f\"{cls.objCreated} objects has been created from class Counter\")\n",
        "\n",
        "c1=Counter()\n",
        "c2=Counter()\n",
        "c3=Counter()\n",
        "Counter.Count()"
      ],
      "metadata": {
        "colab": {
          "base_uri": "https://localhost:8080/"
        },
        "id": "BtpwNmuarw-q",
        "outputId": "8aaacb42-b1c9-4a23-8274-4a4e57acce2e"
      },
      "execution_count": null,
      "outputs": [
        {
          "output_type": "stream",
          "name": "stdout",
          "text": [
            "3 objects has been created from class Counter\n"
          ]
        }
      ]
    },
    {
      "cell_type": "markdown",
      "source": [
        "#Public Variables and Methods\n",
        "Assignment:\n",
        "Create a class Car with a public variable brand and a public method start(). Instantiate the class and access both from outside the class."
      ],
      "metadata": {
        "id": "toEB0MRutiVv"
      }
    },
    {
      "cell_type": "code",
      "source": [
        "class Car:\n",
        "  def __init__(self):\n",
        "    self.brand =\"Honda\"\n",
        "  def start(self):\n",
        "    print(\"Car has started\")\n",
        "\n",
        "c1=Car()\n",
        "print(c1.brand)\n",
        "c1.start()\n",
        "c1.brand=\"Nissan\"\n",
        "print(c1.brand)\n"
      ],
      "metadata": {
        "colab": {
          "base_uri": "https://localhost:8080/"
        },
        "id": "dpr9Z45qtn4k",
        "outputId": "7f7701d8-3997-4346-dc56-b89ab00d8205"
      },
      "execution_count": null,
      "outputs": [
        {
          "output_type": "stream",
          "name": "stdout",
          "text": [
            "Honda\n",
            "Car has started\n",
            "Nissan\n"
          ]
        }
      ]
    },
    {
      "cell_type": "markdown",
      "source": [
        "#Class Variables and Class Methods\n",
        "Assignment:\n",
        "Create a class Bank with a class variable bank_name. Add a class method change_bank_name(cls, name) that allows changing the bank name. Show that it affects all instances."
      ],
      "metadata": {
        "id": "MeOA7RV2wuSp"
      }
    },
    {
      "cell_type": "code",
      "source": [
        "class Bank:\n",
        "  bank_name= \"Meezan Bank\"\n",
        "\n",
        "  @classmethod\n",
        "  def change_bank_name(cls,name):\n",
        "    cls.bank_name=name\n",
        "\n",
        "b1=Bank()\n",
        "b2=Bank()\n",
        "b3=Bank()\n",
        "print(b1.bank_name,b2.bank_name,b3.bank_name)\n",
        "\n",
        "Bank.change_bank_name(\"Habib Bank\")\n",
        "print(b1.bank_name,b2.bank_name,b3.bank_name)"
      ],
      "metadata": {
        "colab": {
          "base_uri": "https://localhost:8080/"
        },
        "id": "kxzPeeOiwzlY",
        "outputId": "0736a0bb-ae5e-49be-c708-35cc635e674d"
      },
      "execution_count": null,
      "outputs": [
        {
          "output_type": "stream",
          "name": "stdout",
          "text": [
            "Meezan Bank Meezan Bank Meezan Bank\n",
            "Habib Bank Habib Bank Habib Bank\n"
          ]
        }
      ]
    },
    {
      "cell_type": "markdown",
      "source": [
        "#Static Variables and Static Methods\n",
        "Assignment:\n",
        "Create a class MathUtils with a static method add(a, b) that returns the sum. No class or instance variables should be used"
      ],
      "metadata": {
        "id": "hYFTyw6Kgdp7"
      }
    },
    {
      "cell_type": "code",
      "source": [
        "class MathUtils:\n",
        "  @staticmethod\n",
        "  def add(a,b):\n",
        "    return a+b\n",
        "\n",
        "math1= MathUtils()\n",
        "print(math1.add(3,5))"
      ],
      "metadata": {
        "colab": {
          "base_uri": "https://localhost:8080/"
        },
        "id": "gNXVseJzgjfZ",
        "outputId": "b2459b6b-5ce7-4e20-9b53-31698cc73a13"
      },
      "execution_count": null,
      "outputs": [
        {
          "output_type": "stream",
          "name": "stdout",
          "text": [
            "8\n"
          ]
        }
      ]
    },
    {
      "cell_type": "markdown",
      "source": [
        "#Constructors and Destructors\n",
        "Assignment:\n",
        "Create a class Logger that prints a message when an object is created (constructor) and another message when it is destroyed (destructor)."
      ],
      "metadata": {
        "id": "kJ5yvkpwhkEk"
      }
    },
    {
      "cell_type": "code",
      "source": [
        "class Logger:\n",
        "  def __init__(self):\n",
        "    print(\"Object is created\")\n",
        "  def __del__(self):\n",
        "    print(\"Object is deleted\")\n",
        "l1= Logger()\n",
        "del l1"
      ],
      "metadata": {
        "id": "9uyJgE6nhokh",
        "colab": {
          "base_uri": "https://localhost:8080/"
        },
        "outputId": "c60c6a45-880b-44df-ad7f-accfa4173795"
      },
      "execution_count": null,
      "outputs": [
        {
          "output_type": "stream",
          "name": "stdout",
          "text": [
            "Object is created\n",
            "Object is deleted\n"
          ]
        }
      ]
    },
    {
      "cell_type": "markdown",
      "source": [
        "#Access Modifiers: Public, Private, and Protected\n",
        "Assignment:\n",
        "Create a class Employee with:\n",
        "\n",
        "a public variable name,\n",
        "\n",
        "a protected variable _salary, and\n",
        "\n",
        "a private variable __ssn.\n",
        "\n",
        "Try accessing all three variables from an object of the class and document what happens."
      ],
      "metadata": {
        "id": "JyOk3jHWbDwc"
      }
    },
    {
      "cell_type": "code",
      "source": [
        "class Employee():\n",
        "  def __init__(self,name,salary,ssn):\n",
        "    self.name = name\n",
        "    self._salary= salary\n",
        "    self.__ssn = ssn\n",
        "\n",
        "e1= Employee(\"aqsa\",50000,123456)\n",
        "print(e1.name)\n",
        "print(e1._salary)\n",
        "print(e1.__ssn)\n",
        "\n",
        "\"\"\"\n",
        "print(e1.name)\n",
        "\n",
        "Output: aqsa\n",
        "Explanation: name is a public variable and can be accessed directly from outside the class.\n",
        "print(e1._salary)\n",
        "\n",
        "Output: 50000\n",
        "Explanation: _salary is a protected variable. Although accessible from outside, it is intended to be used only within the class or its subclasses. Python does not enforce this restriction but uses a naming convention to signal it.\n",
        "print(e1.__ssn)\n",
        "\n",
        "Output: AttributeError: 'Employee' object has no attribute '__ssn'\n",
        "Explanation: __ssn is a private variable. Python uses name mangling to make it inaccessible directly. Internally, it is stored as _Employee__ssn.\n",
        "\"\"\""
      ],
      "metadata": {
        "colab": {
          "base_uri": "https://localhost:8080/",
          "height": 211
        },
        "id": "zerKzJcsbPPm",
        "outputId": "1ffe2a35-d4cb-4fe5-89f2-1c3721516422"
      },
      "execution_count": null,
      "outputs": [
        {
          "output_type": "stream",
          "name": "stdout",
          "text": [
            "aqsa\n",
            "50000\n"
          ]
        },
        {
          "output_type": "error",
          "ename": "AttributeError",
          "evalue": "'Employee' object has no attribute '__ssn'",
          "traceback": [
            "\u001b[0;31m---------------------------------------------------------------------------\u001b[0m",
            "\u001b[0;31mAttributeError\u001b[0m                            Traceback (most recent call last)",
            "\u001b[0;32m<ipython-input-8-dab3069dfc50>\u001b[0m in \u001b[0;36m<cell line: 0>\u001b[0;34m()\u001b[0m\n\u001b[1;32m      8\u001b[0m \u001b[0mprint\u001b[0m\u001b[0;34m(\u001b[0m\u001b[0me1\u001b[0m\u001b[0;34m.\u001b[0m\u001b[0mname\u001b[0m\u001b[0;34m)\u001b[0m\u001b[0;34m\u001b[0m\u001b[0;34m\u001b[0m\u001b[0m\n\u001b[1;32m      9\u001b[0m \u001b[0mprint\u001b[0m\u001b[0;34m(\u001b[0m\u001b[0me1\u001b[0m\u001b[0;34m.\u001b[0m\u001b[0m_salary\u001b[0m\u001b[0;34m)\u001b[0m\u001b[0;34m\u001b[0m\u001b[0;34m\u001b[0m\u001b[0m\n\u001b[0;32m---> 10\u001b[0;31m \u001b[0mprint\u001b[0m\u001b[0;34m(\u001b[0m\u001b[0me1\u001b[0m\u001b[0;34m.\u001b[0m\u001b[0m__ssn\u001b[0m\u001b[0;34m)\u001b[0m\u001b[0;34m\u001b[0m\u001b[0;34m\u001b[0m\u001b[0m\n\u001b[0m",
            "\u001b[0;31mAttributeError\u001b[0m: 'Employee' object has no attribute '__ssn'"
          ]
        }
      ]
    },
    {
      "cell_type": "markdown",
      "source": [
        "#The super() Function\n",
        "Assignment:\n",
        "Create a class Person with a constructor that sets the name. Inherit a class Teacher from it, add a subject field, and use super() to call the base class constructor."
      ],
      "metadata": {
        "id": "wpLpCD4cfUIf"
      }
    },
    {
      "cell_type": "code",
      "source": [
        "from os import name\n",
        "class Person():\n",
        "  def __init__(self,name):\n",
        "    self.name = name\n",
        "\n",
        "class Teacher(Person):\n",
        "  def __init__(self,name,subject):\n",
        "    super().__init__(name)\n",
        "    self.subject = subject\n",
        "\n",
        "t1 = Teacher(\"aqsa\",\"Urdu\")\n",
        "print(t1.name)\n",
        "print(t1.subject)"
      ],
      "metadata": {
        "colab": {
          "base_uri": "https://localhost:8080/"
        },
        "id": "4-F_tTTdfYvM",
        "outputId": "8bb672b9-8894-4316-bdb9-036ac31f49dd"
      },
      "execution_count": null,
      "outputs": [
        {
          "output_type": "stream",
          "name": "stdout",
          "text": [
            "aqsa\n",
            "Urdu\n"
          ]
        }
      ]
    },
    {
      "cell_type": "markdown",
      "source": [
        "#Abstract Classes and Methods\n",
        "Assignment:\n",
        "Use the abc module to create an abstract class Shape with an abstract method area(). Inherit a class Rectangle that implements area()."
      ],
      "metadata": {
        "id": "uOeQUVq08ogL"
      }
    },
    {
      "cell_type": "code",
      "source": [
        "from abc import ABC, abstractmethod\n",
        "\n",
        "class Shape(ABC):\n",
        "  def __init__(self):\n",
        "    pass\n",
        "\n",
        "  @abstractmethod\n",
        "  def area(self):\n",
        "    pass\n",
        "class Rectangle(Shape):\n",
        "  def __init__(self):\n",
        "    self.length = int(input(\"Enter length of rect in m : \"))\n",
        "    self.width = int(input(\"Enter width of rect in m : \"))\n",
        "  def area(self):\n",
        "        return f\"Area of rectangle is {self.length*self.width} m2\"\n",
        "\n",
        "r1= Rectangle()\n",
        "print(r1.area())\n"
      ],
      "metadata": {
        "colab": {
          "base_uri": "https://localhost:8080/"
        },
        "id": "An8Jv2Fp8qvo",
        "outputId": "7f5046c6-8777-47b0-eb2e-2cf052f80ca5"
      },
      "execution_count": 8,
      "outputs": [
        {
          "output_type": "stream",
          "name": "stdout",
          "text": [
            "Enter length of rect in m : 5\n",
            "Enter width of rect in m : 6\n",
            "Area of rectangle is 30 m2\n"
          ]
        }
      ]
    },
    {
      "cell_type": "markdown",
      "source": [
        "#Instance Methods\n",
        "Assignment:\n",
        "Create a class Dog with instance variables name and breed. Add an instance method bark() that prints a message including the dog's name."
      ],
      "metadata": {
        "id": "ojEzqLUyI6fL"
      }
    },
    {
      "cell_type": "code",
      "source": [
        "class Dog():\n",
        "  def __init__(self, name , breed):\n",
        "    self.name = name\n",
        "    self.breed = breed\n",
        "\n",
        "  def bark(self):\n",
        "    print(f\"{self.name} says woof\")\n",
        "d1=Dog(\"Spike\",\"Alaskan\")\n",
        "d1.bark()"
      ],
      "metadata": {
        "colab": {
          "base_uri": "https://localhost:8080/"
        },
        "id": "t37SUdyyJBjI",
        "outputId": "0ddd0257-7849-45d5-9180-b604610651b3"
      },
      "execution_count": null,
      "outputs": [
        {
          "output_type": "stream",
          "name": "stdout",
          "text": [
            "Spike says woof\n"
          ]
        }
      ]
    },
    {
      "cell_type": "markdown",
      "source": [
        "#Class Methods\n",
        "Assignment:\n",
        "Create a class Book with a class variable total_books. Add a class method increment_book_count() to increase the count when a new book is added."
      ],
      "metadata": {
        "id": "miGHBGSoNzUs"
      }
    },
    {
      "cell_type": "code",
      "source": [
        "class Book():\n",
        "  total_books = 0\n",
        "  def __init__(self, name, author):\n",
        "    self.name=name\n",
        "    self.author=author\n",
        "    Book.increment_book_count()\n",
        "\n",
        "  @classmethod\n",
        "  def increment_book_count(cls):\n",
        "    Book.total_books+=1\n",
        "\n",
        "  def display_count():\n",
        "    print(f\"Total books are {Book.total_books}\")\n",
        "b1=Book(\"Harry Potter\",\"J.K Rowling\")\n",
        "\n",
        "b2=Book(\"The good girl guides to murder\",\"Holly Jackson\")\n",
        "\n",
        "Book.display_count()\n"
      ],
      "metadata": {
        "id": "0XGw5gDDN3Mn",
        "colab": {
          "base_uri": "https://localhost:8080/"
        },
        "outputId": "982faebc-6769-4e5a-bbce-c9f08938ee11"
      },
      "execution_count": 27,
      "outputs": [
        {
          "output_type": "stream",
          "name": "stdout",
          "text": [
            "Total books are 2\n"
          ]
        }
      ]
    },
    {
      "cell_type": "markdown",
      "source": [
        "#Static Methods\n",
        "Assignment:\n",
        "Create a class TemperatureConverter with a static method celsius_to_fahrenheit(c) that returns the Fahrenheit value.\n",
        "\n"
      ],
      "metadata": {
        "id": "43gv0Nl1JoYt"
      }
    },
    {
      "cell_type": "code",
      "source": [
        "class TemperatureConverter():\n",
        "  @staticmethod\n",
        "  def celsius_to_fahrenheit(c):\n",
        "    return (c*9/5)*32\n",
        "\n",
        "t1=TemperatureConverter()\n",
        "print(t1.celsius_to_fahrenheit(30))"
      ],
      "metadata": {
        "colab": {
          "base_uri": "https://localhost:8080/"
        },
        "id": "DHoGLmWDJqBb",
        "outputId": "5f44b0a8-ae16-4dbc-883d-c1808470aa3f"
      },
      "execution_count": 28,
      "outputs": [
        {
          "output_type": "stream",
          "name": "stdout",
          "text": [
            "1728.0\n"
          ]
        }
      ]
    },
    {
      "cell_type": "markdown",
      "source": [
        "#Composition\n",
        "Assignment:\n",
        "Create a class Engine and a class Car. Use composition by passing an Engine object to the Car class during initialization. Access a method of the Engine class via the Car class."
      ],
      "metadata": {
        "id": "WmsG1exrQdy6"
      }
    },
    {
      "cell_type": "code",
      "source": [
        "class Engine():\n",
        "  def __init__(self, fuel_type):\n",
        "    self.fuel_type=fuel_type\n",
        "  def start(self):\n",
        "    print(\"Engine is starting\")\n",
        "class Car():\n",
        "  def __init__(self,engine):\n",
        "    self.engine=engine\n",
        "  def start(self):\n",
        "    self.engine.start()\n",
        "e1=Engine(\"Petrol\")\n",
        "c1=Car(e1)\n",
        "c1.start()"
      ],
      "metadata": {
        "colab": {
          "base_uri": "https://localhost:8080/"
        },
        "id": "kXBY77L-QhQT",
        "outputId": "63eb958d-cdb1-4471-8948-3c88b017528b"
      },
      "execution_count": 1,
      "outputs": [
        {
          "output_type": "stream",
          "name": "stdout",
          "text": [
            "Engine is starting\n"
          ]
        }
      ]
    },
    {
      "cell_type": "markdown",
      "source": [
        "#Aggregation\n",
        "Assignment:\n",
        "Create a class Department and a class Employee. Use aggregation by having a Department object store a reference to an Employee object that exists independently of it."
      ],
      "metadata": {
        "id": "KdayHSlKVTZY"
      }
    },
    {
      "cell_type": "code",
      "source": [
        "class Employee():\n",
        "  def __init__(self, name, ID):\n",
        "    self.name = name\n",
        "    self.ID= ID\n",
        "  def __str__(self):\n",
        "    return (f\"{self.name} : {self.ID}\")\n",
        "\n",
        "class Department():\n",
        "  def __init__(self, name):\n",
        "    self.name= name\n",
        "    self.employees=[]\n",
        "  def add_employee(self,*employee):\n",
        "    for emp in employee:\n",
        "      self.employees.append(emp)\n",
        "\n",
        "e1=Employee(\"Aqsa\",324824)\n",
        "e2=Employee(\"Noor\",324825)\n",
        "d1=Department(\"EHS\")\n",
        "d1.add_employee(e1,e2)\n",
        "\n",
        "for emp in d1.employees:\n",
        "    print(emp)"
      ],
      "metadata": {
        "colab": {
          "base_uri": "https://localhost:8080/"
        },
        "id": "SzC8bXXLVVzu",
        "outputId": "38fe5893-3938-48d3-8ce3-7d2b4612662f"
      },
      "execution_count": 10,
      "outputs": [
        {
          "output_type": "stream",
          "name": "stdout",
          "text": [
            "Aqsa : 324824\n",
            "Noor : 324825\n"
          ]
        }
      ]
    },
    {
      "cell_type": "markdown",
      "source": [
        "#Method Resolution Order (MRO) and Diamond Inheritance\n",
        "Assignment:\n",
        "Create four classes:\n",
        "\n",
        "A with a method show(),\n",
        "\n",
        "B and C that inherit from A and override show(),\n",
        "\n",
        "D that inherits from both B and C.\n",
        "\n",
        "Create an object of D and call show() to observe MRO."
      ],
      "metadata": {
        "id": "FX1F6mDlWIw4"
      }
    },
    {
      "cell_type": "code",
      "source": [
        "class A():\n",
        "  def show():\n",
        "    print(\"this is class A's show method\")\n",
        "\n",
        "class B(A):\n",
        "  def show():\n",
        "    print(\"this is class B's show method\")\n",
        "\n",
        "class C(A):\n",
        "  def show():\n",
        "    print(\"this is class C's show method\")\n",
        "\n",
        "class D(B,C):\n",
        "  pass\n",
        "\n",
        "D.show()"
      ],
      "metadata": {
        "colab": {
          "base_uri": "https://localhost:8080/"
        },
        "id": "1JmOlXmiWLNu",
        "outputId": "531dc018-af9a-4240-f309-83c246144df0"
      },
      "execution_count": 11,
      "outputs": [
        {
          "output_type": "stream",
          "name": "stdout",
          "text": [
            "this is class B's show method\n"
          ]
        }
      ]
    },
    {
      "cell_type": "markdown",
      "source": [
        "#Function Decorators\n",
        "Assignment:\n",
        "Write a decorator function log_function_call that prints \"Function is being called\" before a function executes. Apply it to a function say_hello()."
      ],
      "metadata": {
        "id": "meoSxvbobjBw"
      }
    },
    {
      "cell_type": "code",
      "source": [
        "def decorator(func):\n",
        "  def wrapper():\n",
        "    print(\"Function is being called\")\n",
        "    func()\n",
        "  return wrapper\n",
        "\n",
        "@decorator\n",
        "def say_hello():\n",
        "  print(\"hello to the user\")\n",
        "\n",
        "say_hello()"
      ],
      "metadata": {
        "colab": {
          "base_uri": "https://localhost:8080/"
        },
        "id": "rwR4Zj-2bvrx",
        "outputId": "9a125805-405b-4c60-a976-ef1bbdef7ea2"
      },
      "execution_count": 13,
      "outputs": [
        {
          "output_type": "stream",
          "name": "stdout",
          "text": [
            "Function is being called\n",
            "hello to the user\n"
          ]
        }
      ]
    },
    {
      "cell_type": "markdown",
      "source": [
        "#Property Decorators: @property, @setter, and @deleter\n",
        "Assignment:\n",
        "Create a class Product with a private attribute _price. Use @property to get the price, @price.setter to update it, and @price.deleter to delete it."
      ],
      "metadata": {
        "id": "hUyJqnaycv68"
      }
    },
    {
      "cell_type": "code",
      "source": [
        "class Product():\n",
        "  def __init__(self,price):\n",
        "    self._price=price\n",
        "  @property\n",
        "  def price(self):\n",
        "    print(f\"Price of product is {self._price}\")\n",
        "  @price.setter\n",
        "  def price(self,price):\n",
        "    self._price=price\n",
        "  @price.deleter\n",
        "  def price(self):\n",
        "    del self._price\n",
        "\n",
        "p1=Product(100)\n",
        "p1.price\n",
        "p1.price=160\n",
        "p1.price\n",
        "del p1.price\n",
        "p1.price"
      ],
      "metadata": {
        "colab": {
          "base_uri": "https://localhost:8080/",
          "height": 332
        },
        "id": "p19QNFj4c4gl",
        "outputId": "10c1f959-e396-4afb-87ac-b0fd892142a8"
      },
      "execution_count": 22,
      "outputs": [
        {
          "output_type": "stream",
          "name": "stdout",
          "text": [
            "Price of product is 100\n",
            "Price of product is 160\n"
          ]
        },
        {
          "output_type": "error",
          "ename": "AttributeError",
          "evalue": "'Product' object has no attribute '_price'",
          "traceback": [
            "\u001b[0;31m---------------------------------------------------------------------------\u001b[0m",
            "\u001b[0;31mAttributeError\u001b[0m                            Traceback (most recent call last)",
            "\u001b[0;32m<ipython-input-22-fbc8492bc3a8>\u001b[0m in \u001b[0;36m<cell line: 0>\u001b[0;34m()\u001b[0m\n\u001b[1;32m     17\u001b[0m \u001b[0mp1\u001b[0m\u001b[0;34m.\u001b[0m\u001b[0mprice\u001b[0m\u001b[0;34m\u001b[0m\u001b[0;34m\u001b[0m\u001b[0m\n\u001b[1;32m     18\u001b[0m \u001b[0;32mdel\u001b[0m \u001b[0mp1\u001b[0m\u001b[0;34m.\u001b[0m\u001b[0mprice\u001b[0m\u001b[0;34m\u001b[0m\u001b[0;34m\u001b[0m\u001b[0m\n\u001b[0;32m---> 19\u001b[0;31m \u001b[0mp1\u001b[0m\u001b[0;34m.\u001b[0m\u001b[0mprice\u001b[0m\u001b[0;34m\u001b[0m\u001b[0;34m\u001b[0m\u001b[0m\n\u001b[0m",
            "\u001b[0;32m<ipython-input-22-fbc8492bc3a8>\u001b[0m in \u001b[0;36mprice\u001b[0;34m(self)\u001b[0m\n\u001b[1;32m      4\u001b[0m   \u001b[0;34m@\u001b[0m\u001b[0mproperty\u001b[0m\u001b[0;34m\u001b[0m\u001b[0;34m\u001b[0m\u001b[0m\n\u001b[1;32m      5\u001b[0m   \u001b[0;32mdef\u001b[0m \u001b[0mprice\u001b[0m\u001b[0;34m(\u001b[0m\u001b[0mself\u001b[0m\u001b[0;34m)\u001b[0m\u001b[0;34m:\u001b[0m\u001b[0;34m\u001b[0m\u001b[0;34m\u001b[0m\u001b[0m\n\u001b[0;32m----> 6\u001b[0;31m     \u001b[0mprint\u001b[0m\u001b[0;34m(\u001b[0m\u001b[0;34mf\"Price of product is {self._price}\"\u001b[0m\u001b[0;34m)\u001b[0m\u001b[0;34m\u001b[0m\u001b[0;34m\u001b[0m\u001b[0m\n\u001b[0m\u001b[1;32m      7\u001b[0m   \u001b[0;34m@\u001b[0m\u001b[0mprice\u001b[0m\u001b[0;34m.\u001b[0m\u001b[0msetter\u001b[0m\u001b[0;34m\u001b[0m\u001b[0;34m\u001b[0m\u001b[0m\n\u001b[1;32m      8\u001b[0m   \u001b[0;32mdef\u001b[0m \u001b[0mprice\u001b[0m\u001b[0;34m(\u001b[0m\u001b[0mself\u001b[0m\u001b[0;34m,\u001b[0m\u001b[0mprice\u001b[0m\u001b[0;34m)\u001b[0m\u001b[0;34m:\u001b[0m\u001b[0;34m\u001b[0m\u001b[0;34m\u001b[0m\u001b[0m\n",
            "\u001b[0;31mAttributeError\u001b[0m: 'Product' object has no attribute '_price'"
          ]
        }
      ]
    },
    {
      "cell_type": "markdown",
      "source": [
        "#callable() and __call__()\n",
        "Assignment:\n",
        "Create a class Multiplier with an __init__() to set a factor. Define a __call__() method that multiplies an input by the factor. Test it with callable() and by calling the object like a function."
      ],
      "metadata": {
        "id": "FBwWm3SqxneT"
      }
    },
    {
      "cell_type": "code",
      "source": [
        "class Multiplier():\n",
        "  def __init__(self, factor):\n",
        "    self.factor=factor\n",
        "  def __call__(self):\n",
        "    user_input=int(input(\"Enter a num: \"))\n",
        "    print(f\"Product of {self.factor} and {user_input} is {self.factor*user_input}\")\n",
        "\n",
        "m1=Multiplier(5)\n",
        "print(callable(m1))\n",
        "m1()"
      ],
      "metadata": {
        "colab": {
          "base_uri": "https://localhost:8080/"
        },
        "id": "6IxClXZ0hewE",
        "outputId": "2d2e4c14-2f9c-43ee-8926-18f858dee536"
      },
      "execution_count": 23,
      "outputs": [
        {
          "output_type": "stream",
          "name": "stdout",
          "text": [
            "True\n",
            "Enter a num: 4\n",
            "Product of 5 and 4 is 20\n"
          ]
        }
      ]
    },
    {
      "cell_type": "markdown",
      "source": [
        "#Creating a Custom Exception\n",
        "Assignment:\n",
        "Create a custom exception InvalidAgeError. Write a function check_age(age) that raises this exception if age < 18. Handle it with try...except."
      ],
      "metadata": {
        "id": "j8OSjX-h3Ppu"
      }
    },
    {
      "cell_type": "code",
      "source": [
        "class InvalidAgeError(Exception):\n",
        "  pass\n",
        "\n",
        "def check_age(age):\n",
        "  if age<18:\n",
        "    raise InvalidAgeError(\"Age must be 18 or above\")\n",
        "  else:\n",
        "    print(\"Age is valid\")\n",
        "try:\n",
        "  age = int(input(\"Enter your age : \"))\n",
        "  check_age(age)\n",
        "except InvalidAgeError as e:\n",
        "  print(\"Invalid age,1\",e)\n"
      ],
      "metadata": {
        "colab": {
          "base_uri": "https://localhost:8080/"
        },
        "id": "f-TLTSpx3xwp",
        "outputId": "943255a1-576e-4689-8e67-6271f0199260"
      },
      "execution_count": 36,
      "outputs": [
        {
          "output_type": "stream",
          "name": "stdout",
          "text": [
            "Enter your age : 45\n",
            "Age is valid\n"
          ]
        }
      ]
    },
    {
      "cell_type": "markdown",
      "source": [
        "#Make a Custom Class Iterable\n",
        "Assignment:\n",
        "Create a class Countdown that takes a start number. Implement __iter__() and __next__() to make the object iterable in a for-loop, counting down to 0."
      ],
      "metadata": {
        "id": "JH6EP49MGf3k"
      }
    },
    {
      "cell_type": "code",
      "source": [
        "class Countdown():\n",
        "  def __init__(self,count_num):\n",
        "    self.count_num=count_num\n",
        "    self.current=0\n",
        "  def __iter__(self):\n",
        "    return self\n",
        "  def __next__(self):\n",
        "    if self.current>self.count_num:\n",
        "      raise StopIteration\n",
        "    value= self.current\n",
        "    self.current+=1\n",
        "    return value\n",
        "\n",
        "for val in Countdown(5):\n",
        "  print(val)"
      ],
      "metadata": {
        "colab": {
          "base_uri": "https://localhost:8080/"
        },
        "id": "cuhP7opmGiE3",
        "outputId": "8ee7dba7-32c9-49a1-fc52-874b5107a260"
      },
      "execution_count": 37,
      "outputs": [
        {
          "output_type": "stream",
          "name": "stdout",
          "text": [
            "0\n",
            "1\n",
            "2\n",
            "3\n",
            "4\n",
            "5\n"
          ]
        }
      ]
    }
  ]
}